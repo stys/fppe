{
 "cells": [
  {
   "cell_type": "markdown",
   "id": "04159bd2",
   "metadata": {},
   "source": [
    "# Pacing Equilibrium in First Price Auction Markets (Part V)"
   ]
  },
  {
   "cell_type": "code",
   "execution_count": 1,
   "id": "9ad73e74",
   "metadata": {},
   "outputs": [],
   "source": [
    "import numpy as np"
   ]
  },
  {
   "cell_type": "code",
   "execution_count": 2,
   "id": "3caa0188",
   "metadata": {},
   "outputs": [],
   "source": [
    "def get_bidder_demand(prices, values, budget, min_roas = 1.0):\n",
    "    \"\"\"\n",
    "        prices: [nitems, 1]\n",
    "        utilities: [nitems, 1]\n",
    "        budget: float\n",
    "    \"\"\"\n",
    "    nitems = len(prices)\n",
    "    demand = np.zeros_like(prices)\n",
    "    utility = 0\n",
    "    cost = 0\n",
    "    \n",
    "    # sort items in descending order of bang-per-buck \n",
    "    idx = sorted(range(nitems), key=lambda i: values[i] / prices[i], reverse=True)\n",
    "    \n",
    "    # demand items in that order until the budget constraint or ROAS constraint is reached\n",
    "    i = 0\n",
    "    while i < nitems and cost <= budget:\n",
    "        ix = idx[i]\n",
    "        \n",
    "        if values[ix] / prices[ix] >= min_roas:\n",
    "            demand[ix] = (budget - cost) / prices[ix]\n",
    "        else:\n",
    "            demand[ix] = 0\n",
    "        \n",
    "        # update utility and cost after getting the item\n",
    "        utility += demand[ix] * values[ix]\n",
    "        cost += demand[ix] * prices[ix]\n",
    "        i += 1\n",
    "    \n",
    "    return demand\n",
    "\n",
    "\n",
    "def fppe_tatonnement(budgets, values, min_roas=None, niter=100, eps=0.01, start_price=1.0, nprint=1):\n",
    "    \"\"\"\n",
    "        budgets: [nbidders, 1]\n",
    "        utilities: [nbidders, nitems]\n",
    "        min_roas: [nbidders, 1]\n",
    "    \"\"\"\n",
    "    \n",
    "    nbidders, nitems = values.shape\n",
    "    assert nbidders == budgets.shape[0]\n",
    "    \n",
    "    prices = np.full((nitems,), fill_value=start_price)\n",
    "    if min_roas is None:\n",
    "        min_roas = np.ones((nbidders, 1))\n",
    "    else:\n",
    "        assert nbidders == min_roas.shape[0]\n",
    "    \n",
    "    sum_sigm = 0\n",
    "    sum_total_demand = np.zeros_like(prices)\n",
    "    sum_prices = np.zeros_like(prices)\n",
    "    sum_bidder_demand = np.zeros((nbidders, nitems))\n",
    "    \n",
    "    \n",
    "    print(\"iter\\tp1\\tp2\\td1_1\\td1_2\\td2_1\\td2_2\\tv1\\tv2\\ts1\\ts2\\tbeta1\\tbeta2\")\n",
    "    \n",
    "    for it in range(niter):\n",
    "        primal_value = 0.0\n",
    "        dual_value = prices.sum()\n",
    "        bidder_demand = np.zeros((nbidders, nitems))\n",
    "        total_demand = np.zeros_like(prices)\n",
    "        \n",
    "        for j in range(nbidders):\n",
    "            bidder_demand[j, :] = get_bidder_demand(prices, values[j, :], budgets[j], min_roas[j])\n",
    "            total_demand += bidder_demand[j, :]\n",
    "        \n",
    "        sigm = 1. / np.max(total_demand)\n",
    "        sum_bidder_demand += sigm * bidder_demand\n",
    "        sum_total_demand += sigm * total_demand\n",
    "        sum_prices += sigm * prices\n",
    "        sum_sigm += sigm\n",
    "        \n",
    "        prices = prices * (1 + eps * sigm * (total_demand - np.ones_like(prices)))\n",
    "        \n",
    "        if it % nprint == 0 or it == (niter - 1):\n",
    "            avg_total_demand = sum_total_demand / sum_sigm\n",
    "            avg_bidder_demand = sum_bidder_demand / sum_sigm\n",
    "            avg_prices = sum_prices / sum_sigm\n",
    "            avg_value = np.sum(avg_bidder_demand * values, axis=1)\n",
    "            avg_spend = np.sum(avg_bidder_demand * avg_prices, axis=1)\n",
    "            avg_beta = budgets / (avg_value + (budgets - avg_spend))\n",
    "            print(\n",
    "                \"%d\\t%6.4f\\t%6.4f\\t%6.4f\\t%6.4f\\t%6.4f\\t%6.4f\\t%6.4f\\t%6.4f\\t%6.4f\\t%6.4f\\t%6.4f\\t%6.4f\" % (\n",
    "                    it, \n",
    "                    avg_prices[0],           avg_prices[1], \n",
    "                    avg_bidder_demand[0, 0], avg_bidder_demand[0, 1],\n",
    "                    avg_bidder_demand[1, 0], avg_bidder_demand[1, 1],\n",
    "                    avg_value[0],            avg_value[1],\n",
    "                    avg_spend[0],            avg_spend[1],\n",
    "                    avg_beta[0],             avg_beta[1]\n",
    "                )\n",
    "            )\n",
    "                   \n",
    " \n",
    "    return avg_prices    "
   ]
  },
  {
   "cell_type": "markdown",
   "id": "ae897802",
   "metadata": {},
   "source": [
    "# Example 1"
   ]
  },
  {
   "cell_type": "code",
   "execution_count": 3,
   "id": "dc91ab20",
   "metadata": {},
   "outputs": [
    {
     "name": "stdout",
     "output_type": "stream",
     "text": [
      "iter\tp1\tp2\td1_1\td1_2\td2_1\td2_2\tv1\tv2\ts1\ts2\tbeta1\tbeta2\n",
      "0\t1.0000\t1.0000\t5.0000\t0.0000\t2.0000\t0.0000\t10.0000\t6.0000\t5.0000\t2.0000\t0.5000\t0.3333\n",
      "500\t1.9550\t1.2861\t1.0021\t0.0000\t0.3063\t1.1258\t2.0042\t3.1706\t1.9591\t2.0468\t0.9911\t0.6402\n",
      "1000\t1.9800\t1.3126\t0.8316\t0.0000\t0.3192\t1.0618\t1.6632\t3.0814\t1.6466\t2.0260\t0.9967\t0.6546\n",
      "1500\t1.9880\t1.3210\t0.7762\t0.0000\t0.3240\t1.0407\t1.5525\t3.0533\t1.5432\t2.0188\t0.9981\t0.6591\n",
      "2000\t1.9918\t1.3251\t0.7505\t0.0000\t0.3258\t1.0311\t1.5010\t3.0396\t1.4949\t2.0152\t0.9988\t0.6613\n",
      "2500\t1.9941\t1.3271\t0.7332\t0.0000\t0.3280\t1.0241\t1.4664\t3.0321\t1.4621\t2.0131\t0.9991\t0.6625\n",
      "3000\t1.9957\t1.3284\t0.7227\t0.0000\t0.3285\t1.0208\t1.4455\t3.0271\t1.4424\t2.0116\t0.9994\t0.6632\n",
      "3500\t1.9968\t1.3295\t0.7151\t0.0000\t0.3294\t1.0176\t1.4302\t3.0233\t1.4279\t2.0106\t0.9995\t0.6638\n",
      "4000\t1.9976\t1.3300\t0.7102\t0.0000\t0.3295\t1.0162\t1.4203\t3.0210\t1.4186\t2.0098\t0.9997\t0.6642\n",
      "4500\t1.9982\t1.3308\t0.7057\t0.0000\t0.3299\t1.0144\t1.4114\t3.0186\t1.4101\t2.0092\t0.9997\t0.6646\n",
      "5000\t1.9987\t1.3309\t0.7022\t0.0000\t0.3306\t1.0129\t1.4043\t3.0174\t1.4034\t2.0087\t0.9998\t0.6647\n",
      "5500\t1.9991\t1.3315\t0.6997\t0.0000\t0.3306\t1.0120\t1.3994\t3.0158\t1.3988\t2.0084\t0.9999\t0.6650\n",
      "6000\t1.9995\t1.3317\t0.6972\t0.0000\t0.3309\t1.0109\t1.3945\t3.0147\t1.3941\t2.0080\t0.9999\t0.6652\n",
      "6500\t1.9998\t1.3320\t0.6949\t0.0000\t0.3311\t1.0102\t1.3897\t3.0137\t1.3895\t2.0077\t1.0000\t0.6653\n",
      "7000\t2.0000\t1.3323\t0.6931\t0.0000\t0.3313\t1.0094\t1.3862\t3.0129\t1.3862\t2.0075\t1.0000\t0.6655\n",
      "7500\t2.0002\t1.3324\t0.6919\t0.0000\t0.3313\t1.0092\t1.3838\t3.0123\t1.3840\t2.0073\t1.0000\t0.6656\n",
      "8000\t2.0004\t1.3327\t0.6905\t0.0000\t0.3316\t1.0083\t1.3810\t3.0115\t1.3813\t2.0071\t1.0001\t0.6657\n",
      "8500\t2.0006\t1.3326\t0.6894\t0.0000\t0.3317\t1.0081\t1.3787\t3.0112\t1.3791\t2.0070\t1.0001\t0.6657\n",
      "9000\t2.0007\t1.3329\t0.6886\t0.0000\t0.3317\t1.0078\t1.3772\t3.0105\t1.3777\t2.0068\t1.0001\t0.6658\n",
      "9500\t2.0009\t1.3330\t0.6876\t0.0000\t0.3318\t1.0074\t1.3753\t3.0102\t1.3759\t2.0067\t1.0001\t0.6659\n",
      "9999\t2.0010\t1.3331\t0.6869\t0.0000\t0.3318\t1.0072\t1.3738\t3.0098\t1.3745\t2.0066\t1.0001\t0.6660\n"
     ]
    }
   ],
   "source": [
    "budgets = np.array([5.0, 2.0])\n",
    "values = np.array([\n",
    "    [2.0, 1.0],\n",
    "    [3.0, 2.0]\n",
    "])\n",
    "\n",
    "prices = fppe_tatonnement(budgets, values, niter=10000, eps=0.01, nprint=500)"
   ]
  },
  {
   "cell_type": "markdown",
   "id": "e6ba8786",
   "metadata": {},
   "source": [
    "# Example 2"
   ]
  },
  {
   "cell_type": "code",
   "execution_count": 4,
   "id": "7d4c8193",
   "metadata": {},
   "outputs": [
    {
     "name": "stdout",
     "output_type": "stream",
     "text": [
      "iter\tp1\tp2\td1_1\td1_2\td2_1\td2_2\tv1\tv2\ts1\ts2\tbeta1\tbeta2\n",
      "0\t1.0000\t1.0000\t5.0000\t0.0000\t2.0000\t0.0000\t10.0000\t6.0000\t5.0000\t2.0000\t0.5000\t0.3333\n",
      "500\t1.1935\t0.8091\t0.0028\t0.0000\t1.0727\t0.9129\t0.0057\t5.0440\t0.0034\t2.0189\t0.9995\t0.3980\n",
      "1000\t1.1961\t0.8053\t0.0014\t0.0000\t1.0361\t0.9597\t0.0029\t5.0278\t0.0017\t2.0122\t0.9998\t0.3988\n",
      "1500\t1.1975\t0.8034\t0.0010\t0.0000\t1.0249\t0.9739\t0.0019\t5.0226\t0.0011\t2.0098\t0.9998\t0.3990\n",
      "2000\t1.1978\t0.8029\t0.0007\t0.0000\t1.0193\t0.9810\t0.0014\t5.0199\t0.0009\t2.0086\t0.9999\t0.3991\n",
      "2500\t1.1983\t0.8022\t0.0006\t0.0000\t1.0159\t0.9853\t0.0011\t5.0184\t0.0007\t2.0079\t0.9999\t0.3992\n",
      "3000\t1.1984\t0.8021\t0.0005\t0.0000\t1.0131\t0.9889\t0.0010\t5.0173\t0.0006\t2.0074\t0.9999\t0.3992\n",
      "3500\t1.1987\t0.8017\t0.0004\t0.0000\t1.0116\t0.9909\t0.0008\t5.0166\t0.0005\t2.0070\t0.9999\t0.3992\n",
      "4000\t1.1987\t0.8017\t0.0004\t0.0000\t1.0105\t0.9923\t0.0007\t5.0160\t0.0004\t2.0067\t0.9999\t0.3993\n",
      "4500\t1.1989\t0.8015\t0.0003\t0.0000\t1.0096\t0.9934\t0.0006\t5.0155\t0.0004\t2.0065\t0.9999\t0.3993\n",
      "5000\t1.1988\t0.8015\t0.0003\t0.0000\t1.0085\t0.9948\t0.0006\t5.0152\t0.0003\t2.0063\t1.0000\t0.3993\n",
      "5500\t1.1990\t0.8013\t0.0003\t0.0000\t1.0080\t0.9955\t0.0005\t5.0149\t0.0003\t2.0062\t1.0000\t0.3993\n",
      "6000\t1.1989\t0.8013\t0.0002\t0.0000\t1.0075\t0.9961\t0.0005\t5.0147\t0.0003\t2.0061\t1.0000\t0.3993\n",
      "6500\t1.1991\t0.8012\t0.0002\t0.0000\t1.0071\t0.9966\t0.0004\t5.0145\t0.0003\t2.0060\t1.0000\t0.3993\n",
      "7000\t1.1990\t0.8012\t0.0002\t0.0000\t1.0066\t0.9973\t0.0004\t5.0143\t0.0002\t2.0059\t1.0000\t0.3993\n",
      "7500\t1.1991\t0.8011\t0.0002\t0.0000\t1.0063\t0.9977\t0.0004\t5.0141\t0.0002\t2.0058\t1.0000\t0.3993\n",
      "8000\t1.1991\t0.8011\t0.0002\t0.0000\t1.0060\t0.9980\t0.0004\t5.0140\t0.0002\t2.0058\t1.0000\t0.3993\n",
      "8500\t1.1992\t0.8010\t0.0002\t0.0000\t1.0058\t0.9982\t0.0003\t5.0139\t0.0002\t2.0057\t1.0000\t0.3993\n",
      "9000\t1.1991\t0.8010\t0.0002\t0.0000\t1.0055\t0.9987\t0.0003\t5.0138\t0.0002\t2.0057\t1.0000\t0.3994\n",
      "9500\t1.1992\t0.8009\t0.0002\t0.0000\t1.0053\t0.9989\t0.0003\t5.0137\t0.0002\t2.0056\t1.0000\t0.3994\n",
      "9999\t1.1992\t0.8010\t0.0001\t0.0000\t1.0051\t0.9992\t0.0003\t5.0136\t0.0002\t2.0056\t1.0000\t0.3994\n"
     ]
    }
   ],
   "source": [
    "budgets = np.array([5.0, 2.0])\n",
    "values = np.array([\n",
    "    [2.0, 1.0],\n",
    "    [3.0, 2.0]\n",
    "])\n",
    "min_roas = np.array([2.0, 2.0])\n",
    "\n",
    "prices = fppe_tatonnement(budgets, values, min_roas, niter=10000, eps=0.01, nprint=500)"
   ]
  },
  {
   "cell_type": "markdown",
   "id": "4c9a1e40",
   "metadata": {},
   "source": [
    "# Shaded budget"
   ]
  },
  {
   "cell_type": "code",
   "execution_count": 5,
   "id": "e9368894",
   "metadata": {},
   "outputs": [
    {
     "name": "stdout",
     "output_type": "stream",
     "text": [
      "iter\tp1\tp2\td1_1\td1_2\td2_1\td2_2\tv1\tv2\ts1\ts2\tbeta1\tbeta2\n",
      "0\t1.0000\t1.0000\t5.0000\t0.0000\t1.6900\t0.0000\t10.0000\t5.0700\t5.0000\t1.6900\t0.5000\t0.3333\n",
      "500\t1.0717\t0.7289\t0.0028\t0.0000\t1.0101\t0.8597\t0.0056\t4.7496\t0.0030\t1.7091\t0.9995\t0.3573\n",
      "1000\t1.0454\t0.7055\t0.0014\t0.0000\t1.0026\t0.9287\t0.0029\t4.8652\t0.0015\t1.7034\t0.9997\t0.3483\n",
      "1500\t1.0355\t0.6958\t0.0010\t0.0000\t1.0024\t0.9525\t0.0019\t4.9123\t0.0010\t1.7008\t0.9998\t0.3448\n",
      "2000\t1.0299\t0.6913\t0.0007\t0.0000\t1.0024\t0.9648\t0.0015\t4.9367\t0.0008\t1.6993\t0.9999\t0.3430\n",
      "2500\t1.0269\t0.6882\t0.0006\t0.0000\t1.0024\t0.9722\t0.0012\t4.9515\t0.0006\t1.6984\t0.9999\t0.3419\n",
      "3000\t1.0245\t0.6864\t0.0005\t0.0000\t1.0019\t0.9779\t0.0010\t4.9615\t0.0005\t1.6977\t0.9999\t0.3412\n",
      "3500\t1.0231\t0.6849\t0.0004\t0.0000\t1.0019\t0.9814\t0.0008\t4.9686\t0.0004\t1.6972\t0.9999\t0.3406\n",
      "4000\t1.0218\t0.6839\t0.0004\t0.0000\t1.0020\t0.9840\t0.0007\t4.9740\t0.0004\t1.6969\t0.9999\t0.3402\n",
      "4500\t1.0210\t0.6830\t0.0003\t0.0000\t1.0020\t0.9860\t0.0007\t4.9782\t0.0003\t1.6966\t0.9999\t0.3399\n",
      "5000\t1.0202\t0.6824\t0.0003\t0.0000\t1.0018\t0.9881\t0.0006\t4.9816\t0.0003\t1.6963\t0.9999\t0.3397\n",
      "5500\t1.0197\t0.6818\t0.0003\t0.0000\t1.0018\t0.9894\t0.0005\t4.9843\t0.0003\t1.6961\t0.9999\t0.3395\n",
      "6000\t1.0191\t0.6814\t0.0002\t0.0000\t1.0019\t0.9905\t0.0005\t4.9866\t0.0003\t1.6960\t1.0000\t0.3393\n",
      "6500\t1.0188\t0.6810\t0.0002\t0.0000\t1.0019\t0.9914\t0.0005\t4.9885\t0.0002\t1.6958\t1.0000\t0.3392\n",
      "7000\t1.0183\t0.6807\t0.0002\t0.0000\t1.0017\t0.9925\t0.0004\t4.9902\t0.0002\t1.6957\t1.0000\t0.3391\n",
      "7500\t1.0181\t0.6804\t0.0002\t0.0000\t1.0018\t0.9932\t0.0004\t4.9917\t0.0002\t1.6956\t1.0000\t0.3389\n",
      "8000\t1.0177\t0.6802\t0.0002\t0.0000\t1.0018\t0.9938\t0.0004\t4.9929\t0.0002\t1.6955\t1.0000\t0.3389\n",
      "8500\t1.0175\t0.6799\t0.0002\t0.0000\t1.0018\t0.9943\t0.0004\t4.9940\t0.0002\t1.6954\t1.0000\t0.3388\n",
      "9000\t1.0173\t0.6798\t0.0002\t0.0000\t1.0017\t0.9950\t0.0003\t4.9950\t0.0002\t1.6954\t1.0000\t0.3387\n",
      "9500\t1.0171\t0.6795\t0.0002\t0.0000\t1.0017\t0.9954\t0.0003\t4.9959\t0.0002\t1.6953\t1.0000\t0.3386\n",
      "9999\t1.0169\t0.6794\t0.0001\t0.0000\t1.0017\t0.9958\t0.0003\t4.9967\t0.0002\t1.6952\t1.0000\t0.3386\n"
     ]
    }
   ],
   "source": [
    "budgets = np.array([5.0, 1.69])\n",
    "values = np.array([\n",
    "    [2.0, 1.0],\n",
    "    [3.0, 2.0]\n",
    "])\n",
    "min_roas = np.array([2.0, 2.0])\n",
    "\n",
    "prices = fppe_tatonnement(budgets, values, min_roas, niter=10000, eps=0.01, nprint=500)"
   ]
  },
  {
   "cell_type": "code",
   "execution_count": null,
   "id": "ece05e8f",
   "metadata": {},
   "outputs": [],
   "source": []
  }
 ],
 "metadata": {
  "celltoolbar": "Необработанный формат ячейки",
  "kernelspec": {
   "display_name": "Python 3 (ipykernel)",
   "language": "python",
   "name": "python3"
  },
  "language_info": {
   "codemirror_mode": {
    "name": "ipython",
    "version": 3
   },
   "file_extension": ".py",
   "mimetype": "text/x-python",
   "name": "python",
   "nbconvert_exporter": "python",
   "pygments_lexer": "ipython3",
   "version": "3.9.12"
  }
 },
 "nbformat": 4,
 "nbformat_minor": 5
}
